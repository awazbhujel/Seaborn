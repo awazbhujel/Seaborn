{
  "nbformat": 4,
  "nbformat_minor": 0,
  "metadata": {
    "colab": {
      "provenance": [],
      "collapsed_sections": [],
      "authorship_tag": "ABX9TyOvwf1TG7PGXccvP+3BpCQb"
    },
    "kernelspec": {
      "name": "python3",
      "display_name": "Python 3"
    },
    "language_info": {
      "name": "python"
    }
  },
  "cells": [
    {
      "cell_type": "code",
      "execution_count": null,
      "metadata": {
        "id": "hOuDG3aYKv_Y"
      },
      "outputs": [],
      "source": [
        "import pandas as pd,matplotlib.pyplot as plt\n",
        "from scipy import stats"
      ]
    },
    {
      "cell_type": "code",
      "source": [
        "fig = plt.figure()\n",
        "ax1 = fig.add_subplot(211)\n",
        "x = stats.loggamma.rvs(5,size=5000)+5\n",
        "prob = stats.probplot(x,dist=stats.norm,plot=ax1)\n",
        "ax1.set_xlabel(\"\")\n",
        "ax1.set_title(\"probplot against normal distribution\")\n",
        "\n",
        "ax2 = fig.add_subplot(212)\n",
        "xt,_ =stats.boxcox(x)\n",
        "prob = stats.probplot(xt,dist=stats.norm,plot=ax2)\n",
        "ax2.set_title(\"probplot after Box-Cox transformation\")\n",
        "fig.tight_layout()\n",
        "plt.show()"
      ],
      "metadata": {
        "colab": {
          "base_uri": "https://localhost:8080/",
          "height": 297
        },
        "id": "n_h8dufE6BAZ",
        "outputId": "01bf0a1b-2829-41a9-86c7-ac4fd4168098"
      },
      "execution_count": null,
      "outputs": [
        {
          "output_type": "display_data",
          "data": {
            "text/plain": [
              "<Figure size 432x288 with 2 Axes>"
            ],
            "image/png": "[encoded data removed]"
          },
          "metadata": {
            "needs_background": "light"
          }
        }
      ]
    },
    {
      "cell_type": "code",
      "source": [
        "# create a dictionarya and have a look to its keys and values\n",
        "dictionary = {\"nepal\":\"kathmandu\",\"india\":\"delhi\"}\n",
        "print(dictionary.keys())\n",
        "print(dictionary.values())"
      ],
      "metadata": {
        "colab": {
          "base_uri": "https://localhost:8080/"
        },
        "id": "wyIkM-pb6BDC",
        "outputId": "0c3c1c3c-0ea6-477e-f109-8c4f0ac8a7b9"
      },
      "execution_count": null,
      "outputs": [
        {
          "output_type": "stream",
          "name": "stdout",
          "text": [
            "dict_keys(['nepal', 'india'])\n",
            "dict_values(['kathmandu', 'delhi'])\n"
          ]
        }
      ]
    },
    {
      "cell_type": "code",
      "source": [
        "dictionary = {'spain' : 'madrid','usa' : 'vegas'}\n",
        "print(dictionary.keys())\n",
        "print(dictionary.values())"
      ],
      "metadata": {
        "colab": {
          "base_uri": "https://localhost:8080/"
        },
        "id": "TkA3PnEH6BGT",
        "outputId": "ec9fb389-9d6f-4074-be93-60cd2ea9baa4"
      },
      "execution_count": null,
      "outputs": [
        {
          "output_type": "stream",
          "name": "stdout",
          "text": [
            "dict_keys(['spain', 'usa'])\n",
            "dict_values(['madrid', 'vegas'])\n"
          ]
        }
      ]
    },
    {
      "cell_type": "code",
      "source": [
        "dictionary[\"spain\"] =\"barcelona\"\n",
        "print(dictionary)"
      ],
      "metadata": {
        "colab": {
          "base_uri": "https://localhost:8080/"
        },
        "id": "cu1C7KoX6BIj",
        "outputId": "2fdc2ada-6eab-4fa1-864e-fb7a384388d5"
      },
      "execution_count": null,
      "outputs": [
        {
          "output_type": "stream",
          "name": "stdout",
          "text": [
            "{'spain': 'barcelona', 'usa': 'vegas'}\n"
          ]
        }
      ]
    },
    {
      "cell_type": "code",
      "source": [
        "dictionary[\"france\"]=\"paris\"\n",
        "print(dictionary)"
      ],
      "metadata": {
        "colab": {
          "base_uri": "https://localhost:8080/"
        },
        "id": "9ZvQH-Ur6BLm",
        "outputId": "371ff63b-b627-4608-c9f7-078ac9c2b50e"
      },
      "execution_count": null,
      "outputs": [
        {
          "output_type": "stream",
          "name": "stdout",
          "text": [
            "{'spain': 'barcelona', 'usa': 'vegas', 'france': 'paris'}\n"
          ]
        }
      ]
    },
    {
      "cell_type": "code",
      "source": [
        "del dictionary[\"france\"]"
      ],
      "metadata": {
        "colab": {
          "base_uri": "https://localhost:8080/",
          "height": 190
        },
        "id": "0-FL7qry6BPU",
        "outputId": "bcdc6ff7-7ac2-4685-a436-97aa42aebb07"
      },
      "execution_count": null,
      "outputs": [
        {
          "output_type": "error",
          "ename": "KeyError",
          "evalue": "ignored",
          "traceback": [
            "\u001b[0;31m---------------------------------------------------------------------------\u001b[0m",
            "\u001b[0;31mKeyError\u001b[0m                                  Traceback (most recent call last)",
            "\u001b[0;32m<ipython-input-27-8569a33e52ed>\u001b[0m in \u001b[0;36m<module>\u001b[0;34m\u001b[0m\n\u001b[0;32m----> 1\u001b[0;31m \u001b[0;32mdel\u001b[0m \u001b[0mdictionary\u001b[0m\u001b[0;34m[\u001b[0m\u001b[0;34m\"france\"\u001b[0m\u001b[0;34m]\u001b[0m\u001b[0;34m\u001b[0m\u001b[0;34m\u001b[0m\u001b[0m\n\u001b[0m\u001b[1;32m      2\u001b[0m \u001b[0mprint\u001b[0m\u001b[0;34m(\u001b[0m\u001b[0mdictionary\u001b[0m\u001b[0;34m)\u001b[0m\u001b[0;34m\u001b[0m\u001b[0;34m\u001b[0m\u001b[0m\n",
            "\u001b[0;31mKeyError\u001b[0m: 'france'"
          ]
        }
      ]
    },
    {
      "cell_type": "code",
      "source": [
        "print(dictionary)"
      ],
      "metadata": {
        "colab": {
          "base_uri": "https://localhost:8080/"
        },
        "id": "JrF1JW6n6Bb_",
        "outputId": "be57e023-4af6-46c5-aed0-eaea70d26f1b"
      },
      "execution_count": null,
      "outputs": [
        {
          "output_type": "stream",
          "name": "stdout",
          "text": [
            "{'spain': 'barcelona', 'usa': 'vegas'}\n"
          ]
        }
      ]
    },
    {
      "cell_type": "code",
      "source": [
        "print(\"spain\" in dictionary.values())"
      ],
      "metadata": {
        "colab": {
          "base_uri": "https://localhost:8080/"
        },
        "id": "SLnFWTWR6Bee",
        "outputId": "d42a11bb-b16d-489e-ad58-39c2268a636c"
      },
      "execution_count": null,
      "outputs": [
        {
          "output_type": "stream",
          "name": "stdout",
          "text": [
            "False\n"
          ]
        }
      ]
    },
    {
      "cell_type": "code",
      "source": [
        "dictionary.clear()"
      ],
      "metadata": {
        "id": "sJo5eDaJ6BiB"
      },
      "execution_count": null,
      "outputs": []
    },
    {
      "cell_type": "code",
      "source": [
        "print(dictionary)"
      ],
      "metadata": {
        "colab": {
          "base_uri": "https://localhost:8080/"
        },
        "id": "WAcDHOLK6Bw0",
        "outputId": "175e6ba6-699d-430a-90ca-4364329c51f3"
      },
      "execution_count": null,
      "outputs": [
        {
          "output_type": "stream",
          "name": "stdout",
          "text": [
            "{}\n"
          ]
        }
      ]
    },
    {
      "cell_type": "code",
      "source": [
        "print(3>3)\n",
        "print(3!=4)\n",
        "print(True or False)\n",
        "print(True and False)"
      ],
      "metadata": {
        "colab": {
          "base_uri": "https://localhost:8080/"
        },
        "id": "AqqjNHfI6B0V",
        "outputId": "4dacba0a-b469-40a9-cb9f-dc3472c1285d"
      },
      "execution_count": null,
      "outputs": [
        {
          "output_type": "stream",
          "name": "stdout",
          "text": [
            "False\n",
            "True\n",
            "True\n",
            "False\n"
          ]
        }
      ]
    },
    {
      "cell_type": "code",
      "source": [
        "#while and for loops\n",
        "i = 0\n",
        "while i!=5:\n",
        "  print(\"i is:\",i)\n",
        "  i +=1\n",
        "print(i,\"is equal to 5\")"
      ],
      "metadata": {
        "colab": {
          "base_uri": "https://localhost:8080/"
        },
        "id": "X2gpvY8DwHT6",
        "outputId": "8b0b78bf-6532-4eae-c119-b87bbc28655d"
      },
      "execution_count": null,
      "outputs": [
        {
          "output_type": "stream",
          "name": "stdout",
          "text": [
            "i is: 0\n",
            "i is: 1\n",
            "i is: 2\n",
            "i is: 3\n",
            "i is: 4\n",
            "5 is equal to 5\n"
          ]
        }
      ]
    },
    {
      "cell_type": "code",
      "source": [
        "lis= [1,2,3,4,5]\n",
        "\n",
        "for key,values in enumerate(lis):\n",
        "  print(key,\":\",values)"
      ],
      "metadata": {
        "colab": {
          "base_uri": "https://localhost:8080/"
        },
        "id": "Gzk1PQsewHXV",
        "outputId": "324277b1-e5e5-4ab4-80ed-65a8b57355d6"
      },
      "execution_count": null,
      "outputs": [
        {
          "output_type": "stream",
          "name": "stdout",
          "text": [
            "0 : 1\n",
            "1 : 2\n",
            "2 : 3\n",
            "3 : 4\n",
            "4 : 5\n"
          ]
        }
      ]
    },
    {
      "cell_type": "code",
      "source": [
        "dictionary = {'spain':'madrid','france':'paris'}\n",
        "for key,value in dictionary.items():\n",
        "  print(key,\":\",value)"
      ],
      "metadata": {
        "colab": {
          "base_uri": "https://localhost:8080/"
        },
        "id": "QqSD2N9FxCqm",
        "outputId": "56a4c245-ad6d-41d6-c99c-c709a679ee45"
      },
      "execution_count": null,
      "outputs": [
        {
          "output_type": "stream",
          "name": "stdout",
          "text": [
            "spain : madrid\n",
            "france : paris\n"
          ]
        }
      ]
    },
    {
      "cell_type": "code",
      "source": [],
      "metadata": {
        "id": "C_qovXONxCtV"
      },
      "execution_count": null,
      "outputs": []
    },
    {
      "cell_type": "code",
      "source": [],
      "metadata": {
        "id": "9UkrTODsxCv-"
      },
      "execution_count": null,
      "outputs": []
    },
    {
      "cell_type": "code",
      "source": [],
      "metadata": {
        "id": "DJlI3AgjxCzt"
      },
      "execution_count": null,
      "outputs": []
    },
    {
      "cell_type": "code",
      "source": [],
      "metadata": {
        "id": "yJDWGJEmxC6I"
      },
      "execution_count": null,
      "outputs": []
    },
    {
      "cell_type": "code",
      "source": [],
      "metadata": {
        "id": "BWkq0ovXxC9n"
      },
      "execution_count": null,
      "outputs": []
    },
    {
      "cell_type": "code",
      "source": [],
      "metadata": {
        "id": "AIWZpnE5xDeN"
      },
      "execution_count": null,
      "outputs": []
    },
    {
      "cell_type": "code",
      "source": [],
      "metadata": {
        "id": "0-5-vfK9xDkF"
      },
      "execution_count": null,
      "outputs": []
    },
    {
      "cell_type": "code",
      "source": [],
      "metadata": {
        "id": "czqcMn7gxDgt"
      },
      "execution_count": null,
      "outputs": []
    },
    {
      "cell_type": "code",
      "source": [],
      "metadata": {
        "id": "pvrZndqYxEXx"
      },
      "execution_count": null,
      "outputs": []
    },
    {
      "cell_type": "code",
      "source": [],
      "metadata": {
        "id": "jEbI01fVxEbV"
      },
      "execution_count": null,
      "outputs": []
    },
    {
      "cell_type": "code",
      "source": [],
      "metadata": {
        "id": "eXY9TdNdxGJQ"
      },
      "execution_count": null,
      "outputs": []
    },
    {
      "cell_type": "code",
      "source": [],
      "metadata": {
        "id": "yItRoXgexGF5"
      },
      "execution_count": null,
      "outputs": []
    },
    {
      "cell_type": "code",
      "source": [],
      "metadata": {
        "id": "kMk0Y4M4xGDd"
      },
      "execution_count": null,
      "outputs": []
    }
  ]
}