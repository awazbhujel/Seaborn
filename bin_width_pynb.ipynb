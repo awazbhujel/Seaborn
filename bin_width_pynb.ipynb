{
  "nbformat": 4,
  "nbformat_minor": 0,
  "metadata": {
    "colab": {
      "provenance": [],
      "collapsed_sections": [],
      "authorship_tag": "ABX9TyM+lai1vBJomcBm0CZLKt4g"
    },
    "kernelspec": {
      "name": "python3",
      "display_name": "Python 3"
    },
    "language_info": {
      "name": "python"
    }
  },
  "cells": [
    {
      "cell_type": "markdown",
      "source": [
        "**Determining Histogram Bin Width using the Freedman-Diaconis Rule**"
      ],
      "metadata": {
        "id": "0nSkeC8xUXp6"
      }
    },
    {
      "cell_type": "code",
      "execution_count": 1,
      "metadata": {
        "id": "bB0Qh-NHBdrk"
      },
      "outputs": [],
      "source": [
        "import pandas as pd"
      ]
    },
    {
      "cell_type": "markdown",
      "source": [
        "Histograms are used to estimate the probability distribution of a continuous random variable. They are frequently used as an exploratory data analysis starting point, and provide insight into the shape and variability of the data in question. One of the challenges in constructing histograms is selecting the optimal number of bins (or, analagously, the width of each bin). To help determine a reasonable bin width, we can leverage the Freedman-Diaconis rule, which was designed to minimize the difference between the area under the empirical probability distribution and the area under the theoretical probability distribution[1]. Formally, the rule takes as input the interquartile range IQR(x) and the number of observations n in the empirical dataset, and returns a bin width estimate. The rule can be expressed as:\n",
        "\n",
        "Bin width=2IQR(x)/3√n"
      ],
      "metadata": {
        "id": "_zGNOEk0Uk05"
      }
    },
    {
      "cell_type": "markdown",
      "source": [
        "The interquartile range is defined as the difference between the largest and smallest values in the middle 50% of an empirical dataset. Within the context of Scipy, IQR can be calculated using stats.iqr, but it can readily be calculated by hand."
      ],
      "metadata": {
        "id": "Goq6tX38V1zL"
      }
    },
    {
      "cell_type": "code",
      "source": [
        "data = [\n",
        "    62.55976, -14.71019, -20.67025, -35.43758, -10.65457,  21.55292, \n",
        "    41.26359,   0.33537, -14.43599, -40.66612,   6.45701, -40.39694, \n",
        "     55.1221,  24.50901,   6.61822, -29.10305,   6.21494,  15.25862,  \n",
        "    13.54446,   2.48212,  -2.34573, -21.47846,   -5.0777,  26.48881, \n",
        "    -8.68764,  -5.49631,  42.58039,  -6.59111, -23.08169,  19.09755, \n",
        "   -21.35046,   0.24064,  -3.16365, -37.43091,  24.48556,    2.6263,  \n",
        "    31.14471,   5.75287,  -46.8529, -14.26814,   8.41045,  18.11071, \n",
        "   -30.46438,  12.22195, -31.83203,  -8.09629,  52.06456, -24.30986, \n",
        "   -25.62359,   2.86882,  15.77073,  31.17838, -22.04998\n",
        "    ]"
      ],
      "metadata": {
        "id": "RNMTxgc1Bfu0"
      },
      "execution_count": 13,
      "outputs": []
    },
    {
      "cell_type": "markdown",
      "source": [
        "Using Scipy’s stats.iqr, the IQR is computed as:"
      ],
      "metadata": {
        "id": "PNNJHR2NVwoc"
      }
    },
    {
      "cell_type": "code",
      "source": [
        "from scipy import stats"
      ],
      "metadata": {
        "id": "qu9SMPW9Bfxz"
      },
      "execution_count": 6,
      "outputs": []
    },
    {
      "cell_type": "code",
      "source": [
        "stats.iqr(data,rng=(25,75),scale=\"raw\",nan_policy=\"omit\")"
      ],
      "metadata": {
        "colab": {
          "base_uri": "https://localhost:8080/"
        },
        "id": "zOMI74-sBf3X",
        "outputId": "c7195690-7653-4ae4-e9f9-23f7a9be725a"
      },
      "execution_count": 8,
      "outputs": [
        {
          "output_type": "stream",
          "name": "stderr",
          "text": [
            "/usr/local/lib/python3.7/dist-packages/scipy/stats/stats.py:2838: VisibleDeprecationWarning: use of scale='raw' is deprecated, use scale=1.0 instead\n",
            "  np.VisibleDeprecationWarning\n"
          ]
        },
        {
          "output_type": "execute_result",
          "data": {
            "text/plain": [
              "37.12119"
            ]
          },
          "metadata": {},
          "execution_count": 8
        }
      ]
    },
    {
      "cell_type": "markdown",
      "source": [
        "Alternatively, we can leverage Numpy’s quantile function directly, passing in [.25, .75] as the target percentiles, then take the difference of the values to obtain the IQR:"
      ],
      "metadata": {
        "id": "vXriL89mWEhS"
      }
    },
    {
      "cell_type": "code",
      "source": [
        "import numpy as np\n",
        "iqr_manul = np.quantile(data,q=[.25,.75])\n",
        "np.diff(iqr_manul)[0]"
      ],
      "metadata": {
        "colab": {
          "base_uri": "https://localhost:8080/"
        },
        "id": "_GMmjX-2Bf5c",
        "outputId": "808d72b3-5cc0-49a1-90ba-d5b9f6855a72"
      },
      "execution_count": 10,
      "outputs": [
        {
          "output_type": "execute_result",
          "data": {
            "text/plain": [
              "37.12119"
            ]
          },
          "metadata": {},
          "execution_count": 10
        }
      ]
    },
    {
      "cell_type": "markdown",
      "source": [
        "Next we define a function that encapsulates the Freedman–Diaconis rule:"
      ],
      "metadata": {
        "id": "rfZqmJ9fWpan"
      }
    },
    {
      "cell_type": "code",
      "source": [
        "import numpy as np\n",
        "from scipy import stats\n",
        "\n",
        "def freedman_diaconis(data,returnas=\"width\"):\n",
        "  \"\"\"\n",
        "    Use Freedman Diaconis rule to compute optimal histogram bin width. \n",
        "    ``returnas`` can be one of \"width\" or \"bins\", indicating whether\n",
        "    the bin width or number of bins should be returned respectively. \n",
        "\n",
        "\n",
        "    Parameters\n",
        "    ----------\n",
        "    data: np.ndarray\n",
        "        One-dimensional array.\n",
        "\n",
        "    returnas: {\"width\", \"bins\"}\n",
        "        If \"width\", return the estimated width for each histogram bin. \n",
        "        If \"bins\", return the number of bins suggested by rule.\"\"\"\n",
        "  data = np.asarray(data,dtype=np.float_)\n",
        "  IQR = stats.iqr(data,rng=(25,75),scale=\"raw\",nan_policy=\"omit\")\n",
        "  N = data.size    \n",
        "  bw = (2*IQR)/np.power(N,1/3)\n",
        "\n",
        "  if returnas ==\"width\":\n",
        "    result = bw\n",
        "  else:\n",
        "    datmin,datmax = data.min(),data.max()\n",
        "    datrng = datmax - datmin\n",
        "    result = int((datrng/bw) +1 )\n",
        "  return(result)\n"
      ],
      "metadata": {
        "id": "ENBzRCAPBf8a"
      },
      "execution_count": 27,
      "outputs": []
    },
    {
      "cell_type": "markdown",
      "source": [
        "To demonstrate, we call the freedman_diaconis function with each returnas option:"
      ],
      "metadata": {
        "id": "0ElBKAW2YhLA"
      }
    },
    {
      "cell_type": "code",
      "source": [
        "freedman_diaconis(data=data,returnas=\"width\")"
      ],
      "metadata": {
        "colab": {
          "base_uri": "https://localhost:8080/"
        },
        "id": "hJLUx7giBf_n",
        "outputId": "d20cedae-485d-46f2-b699-3bee600b47b5"
      },
      "execution_count": 16,
      "outputs": [
        {
          "output_type": "stream",
          "name": "stderr",
          "text": [
            "/usr/local/lib/python3.7/dist-packages/scipy/stats/stats.py:2838: VisibleDeprecationWarning: use of scale='raw' is deprecated, use scale=1.0 instead\n",
            "  np.VisibleDeprecationWarning\n"
          ]
        },
        {
          "output_type": "execute_result",
          "data": {
            "text/plain": [
              "19.76483815603517"
            ]
          },
          "metadata": {},
          "execution_count": 16
        }
      ]
    },
    {
      "cell_type": "code",
      "source": [
        "freedman_diaconis(data,returnas=\"bins\")"
      ],
      "metadata": {
        "colab": {
          "base_uri": "https://localhost:8080/"
        },
        "id": "ReYhenD-BgCK",
        "outputId": "1ed268d3-1271-480d-d741-c9b6408f4e22"
      },
      "execution_count": 28,
      "outputs": [
        {
          "output_type": "stream",
          "name": "stderr",
          "text": [
            "/usr/local/lib/python3.7/dist-packages/scipy/stats/stats.py:2838: VisibleDeprecationWarning: use of scale='raw' is deprecated, use scale=1.0 instead\n",
            "  np.VisibleDeprecationWarning\n"
          ]
        },
        {
          "output_type": "execute_result",
          "data": {
            "text/plain": [
              "6"
            ]
          },
          "metadata": {},
          "execution_count": 28
        }
      ]
    },
    {
      "cell_type": "code",
      "source": [
        "import matplotlib.pyplot as plt\n",
        "import matplotlib.pyplot as mpl"
      ],
      "metadata": {
        "id": "lHCUC18UBgMR"
      },
      "execution_count": 29,
      "outputs": []
    },
    {
      "cell_type": "code",
      "source": [
        "# Use freedman_diaconis function with returnas=\"bins\" to determine histogram bin width.\n",
        "NBR_BINS=freedman_diaconis(data,returnas=\"bins\")\n",
        "fig,ax=plt.subplots(nrows=1,ncols=1)\n",
        "fig.set_size_inches(11,8)\n",
        "ax.hist(data, NBR_BINS, density=True, color=\"#FFFFFF\", edgecolor=\"black\", linewidth=1.1)\n",
        "ax.set_title(\"Bin Width Determination via Freedman Diaconis Rule\", fontsize=14, loc=\"left\", color=\"red\")\n",
        "ax.set_ylabel(\"Density\", fontsize=12, color=\"#000000\")\n",
        "ax.grid(False)\n",
        "ax.set_facecolor(None)\n",
        "plt.tight_layout()\n",
        "plt.show()"
      ],
      "metadata": {
        "colab": {
          "base_uri": "https://localhost:8080/",
          "height": 585
        },
        "id": "A6PQ8HWvBgPh",
        "outputId": "e97e1439-d48c-4207-9e93-71e663c79da6"
      },
      "execution_count": 31,
      "outputs": [
        {
          "output_type": "display_data",
          "data": {
            "text/plain": [
              "<Figure size 792x576 with 1 Axes>"
            ],
            "image/png": "[encoded data removed]"
          },
          "metadata": {
            "needs_background": "light"
          }
        }
      ]
    },
    {
      "cell_type": "markdown",
      "source": [
        "Alternatively, the seaborn library can be used to generate similar, but perhaps more appealing visualizations. We demonstrate seaborn’s distplot, which can alternatively include and overlaid kernel density estimate:"
      ],
      "metadata": {
        "id": "x-H8xWX_arvl"
      }
    },
    {
      "cell_type": "code",
      "source": [
        "import matplotlib as mpl\n",
        "import seaborn as sns"
      ],
      "metadata": {
        "id": "MzzMKDNhBgRl"
      },
      "execution_count": 37,
      "outputs": []
    },
    {
      "cell_type": "code",
      "source": [
        "NBR_BINS = freedman_diaconis(data, returnas=\"bins\")\n",
        "fig, ax = plt.subplots(nrows=1, ncols=1)\n",
        "fig.set_size_inches(11, 8)\n",
        "hist_plot = sns.distplot(data, bins=NBR_BINS, kde=False, hist_kws=dict(edgecolor=\"#000000\", linewidth=1.0))\n",
        "ax.set_title(\"Bin Width Determination via Freedman Diaconis Rule\", fontsize=14, loc=\"left\", color=\"red\")\n",
        "plt.tight_layout()\n",
        "plt.show()\n",
        "\n",
        "# Optionally save plot to file.\n",
        "#hist_plot.savefig(\"histogram.png\")"
      ],
      "metadata": {
        "colab": {
          "base_uri": "https://localhost:8080/",
          "height": 585
        },
        "id": "0uDyZVRPBgUv",
        "outputId": "62ab5329-0dab-453e-f113-2338ced1d8d8"
      },
      "execution_count": 43,
      "outputs": [
        {
          "output_type": "display_data",
          "data": {
            "text/plain": [
              "<Figure size 792x576 with 1 Axes>"
            ],
            "image/png": "[encoded data removed]"
          },
          "metadata": {
            "needs_background": "light"
          }
        }
      ]
    }
  ]
}